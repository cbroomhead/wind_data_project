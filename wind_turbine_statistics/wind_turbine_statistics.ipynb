{
 "cells": [
  {
   "cell_type": "markdown",
   "metadata": {},
   "source": [
    "all data can be downloaded here: https://eerscmap.usgs.gov/uswtdb/data/\n",
    "data explained here: https://eerscmap.usgs.gov/uswtdb/assets/data/uswtdb_v3_1_20200717.xml"
   ]
  },
  {
   "cell_type": "markdown",
   "metadata": {},
   "source": [
    "We will explore the relationship between some of the variables down below. "
   ]
  },
  {
   "cell_type": "code",
   "execution_count": 71,
   "metadata": {},
   "outputs": [
    {
     "name": "stderr",
     "output_type": "stream",
     "text": [
      "/opt/miniconda3/lib/python3.8/site-packages/IPython/core/interactiveshell.py:3145: DtypeWarning: Columns (11) have mixed types.Specify dtype option on import or set low_memory=False.\n",
      "  has_raised = await self.run_ast_nodes(code_ast.body, cell_name,\n"
     ]
    },
    {
     "data": {
      "text/html": [
       "<div>\n",
       "<style scoped>\n",
       "    .dataframe tbody tr th:only-of-type {\n",
       "        vertical-align: middle;\n",
       "    }\n",
       "\n",
       "    .dataframe tbody tr th {\n",
       "        vertical-align: top;\n",
       "    }\n",
       "\n",
       "    .dataframe thead th {\n",
       "        text-align: right;\n",
       "    }\n",
       "</style>\n",
       "<table border=\"1\" class=\"dataframe\">\n",
       "  <thead>\n",
       "    <tr style=\"text-align: right;\">\n",
       "      <th></th>\n",
       "      <th>turbine_id</th>\n",
       "      <th>faa_ors</th>\n",
       "      <th>faa_asn</th>\n",
       "      <th>usgs_pr_id</th>\n",
       "      <th>eia_id</th>\n",
       "      <th>t_state</th>\n",
       "      <th>t_county</th>\n",
       "      <th>t_fips</th>\n",
       "      <th>project_name</th>\n",
       "      <th>year_online</th>\n",
       "      <th>...</th>\n",
       "      <th>t_hub_height</th>\n",
       "      <th>t_rotor_d</th>\n",
       "      <th>t_rsa</th>\n",
       "      <th>t_total_height</th>\n",
       "      <th>t_conf_atr</th>\n",
       "      <th>t_conf_loc</th>\n",
       "      <th>t_img_date</th>\n",
       "      <th>t_img_srce</th>\n",
       "      <th>xlong</th>\n",
       "      <th>ylat</th>\n",
       "    </tr>\n",
       "  </thead>\n",
       "  <tbody>\n",
       "    <tr>\n",
       "      <th>0</th>\n",
       "      <td>3072677</td>\n",
       "      <td>NaN</td>\n",
       "      <td>NaN</td>\n",
       "      <td>5042.0</td>\n",
       "      <td>52161.0</td>\n",
       "      <td>CA</td>\n",
       "      <td>Kern County</td>\n",
       "      <td>6029</td>\n",
       "      <td>251 Wind</td>\n",
       "      <td>1987.0</td>\n",
       "      <td>...</td>\n",
       "      <td>NaN</td>\n",
       "      <td>NaN</td>\n",
       "      <td>NaN</td>\n",
       "      <td>NaN</td>\n",
       "      <td>2</td>\n",
       "      <td>3</td>\n",
       "      <td>5/8/18</td>\n",
       "      <td>Digital Globe</td>\n",
       "      <td>-118.365746</td>\n",
       "      <td>35.077869</td>\n",
       "    </tr>\n",
       "    <tr>\n",
       "      <th>1</th>\n",
       "      <td>3073412</td>\n",
       "      <td>NaN</td>\n",
       "      <td>NaN</td>\n",
       "      <td>5756.0</td>\n",
       "      <td>52161.0</td>\n",
       "      <td>CA</td>\n",
       "      <td>Kern County</td>\n",
       "      <td>6029</td>\n",
       "      <td>251 Wind</td>\n",
       "      <td>1987.0</td>\n",
       "      <td>...</td>\n",
       "      <td>NaN</td>\n",
       "      <td>NaN</td>\n",
       "      <td>NaN</td>\n",
       "      <td>NaN</td>\n",
       "      <td>2</td>\n",
       "      <td>3</td>\n",
       "      <td>5/8/18</td>\n",
       "      <td>Digital Globe</td>\n",
       "      <td>-118.355255</td>\n",
       "      <td>35.084801</td>\n",
       "    </tr>\n",
       "    <tr>\n",
       "      <th>2</th>\n",
       "      <td>3073335</td>\n",
       "      <td>NaN</td>\n",
       "      <td>NaN</td>\n",
       "      <td>4946.0</td>\n",
       "      <td>52161.0</td>\n",
       "      <td>CA</td>\n",
       "      <td>Kern County</td>\n",
       "      <td>6029</td>\n",
       "      <td>251 Wind</td>\n",
       "      <td>1987.0</td>\n",
       "      <td>...</td>\n",
       "      <td>NaN</td>\n",
       "      <td>NaN</td>\n",
       "      <td>NaN</td>\n",
       "      <td>NaN</td>\n",
       "      <td>2</td>\n",
       "      <td>3</td>\n",
       "      <td>5/8/18</td>\n",
       "      <td>Digital Globe</td>\n",
       "      <td>-118.357544</td>\n",
       "      <td>35.088322</td>\n",
       "    </tr>\n",
       "    <tr>\n",
       "      <th>3</th>\n",
       "      <td>3072695</td>\n",
       "      <td>NaN</td>\n",
       "      <td>NaN</td>\n",
       "      <td>5143.0</td>\n",
       "      <td>52161.0</td>\n",
       "      <td>CA</td>\n",
       "      <td>Kern County</td>\n",
       "      <td>6029</td>\n",
       "      <td>251 Wind</td>\n",
       "      <td>1987.0</td>\n",
       "      <td>...</td>\n",
       "      <td>NaN</td>\n",
       "      <td>NaN</td>\n",
       "      <td>NaN</td>\n",
       "      <td>NaN</td>\n",
       "      <td>2</td>\n",
       "      <td>3</td>\n",
       "      <td>5/8/18</td>\n",
       "      <td>Digital Globe</td>\n",
       "      <td>-118.364410</td>\n",
       "      <td>35.077435</td>\n",
       "    </tr>\n",
       "    <tr>\n",
       "      <th>4</th>\n",
       "      <td>3073327</td>\n",
       "      <td>NaN</td>\n",
       "      <td>NaN</td>\n",
       "      <td>4966.0</td>\n",
       "      <td>52161.0</td>\n",
       "      <td>CA</td>\n",
       "      <td>Kern County</td>\n",
       "      <td>6029</td>\n",
       "      <td>251 Wind</td>\n",
       "      <td>1987.0</td>\n",
       "      <td>...</td>\n",
       "      <td>NaN</td>\n",
       "      <td>NaN</td>\n",
       "      <td>NaN</td>\n",
       "      <td>NaN</td>\n",
       "      <td>2</td>\n",
       "      <td>3</td>\n",
       "      <td>5/8/18</td>\n",
       "      <td>Digital Globe</td>\n",
       "      <td>-118.357872</td>\n",
       "      <td>35.084499</td>\n",
       "    </tr>\n",
       "  </tbody>\n",
       "</table>\n",
       "<p>5 rows × 25 columns</p>\n",
       "</div>"
      ],
      "text/plain": [
       "   turbine_id faa_ors faa_asn  usgs_pr_id   eia_id t_state     t_county  \\\n",
       "0     3072677     NaN     NaN      5042.0  52161.0      CA  Kern County   \n",
       "1     3073412     NaN     NaN      5756.0  52161.0      CA  Kern County   \n",
       "2     3073335     NaN     NaN      4946.0  52161.0      CA  Kern County   \n",
       "3     3072695     NaN     NaN      5143.0  52161.0      CA  Kern County   \n",
       "4     3073327     NaN     NaN      4966.0  52161.0      CA  Kern County   \n",
       "\n",
       "   t_fips project_name  year_online  ...  t_hub_height t_rotor_d t_rsa  \\\n",
       "0    6029     251 Wind       1987.0  ...           NaN       NaN   NaN   \n",
       "1    6029     251 Wind       1987.0  ...           NaN       NaN   NaN   \n",
       "2    6029     251 Wind       1987.0  ...           NaN       NaN   NaN   \n",
       "3    6029     251 Wind       1987.0  ...           NaN       NaN   NaN   \n",
       "4    6029     251 Wind       1987.0  ...           NaN       NaN   NaN   \n",
       "\n",
       "  t_total_height  t_conf_atr  t_conf_loc  t_img_date     t_img_srce  \\\n",
       "0            NaN           2           3      5/8/18  Digital Globe   \n",
       "1            NaN           2           3      5/8/18  Digital Globe   \n",
       "2            NaN           2           3      5/8/18  Digital Globe   \n",
       "3            NaN           2           3      5/8/18  Digital Globe   \n",
       "4            NaN           2           3      5/8/18  Digital Globe   \n",
       "\n",
       "        xlong       ylat  \n",
       "0 -118.365746  35.077869  \n",
       "1 -118.355255  35.084801  \n",
       "2 -118.357544  35.088322  \n",
       "3 -118.364410  35.077435  \n",
       "4 -118.357872  35.084499  \n",
       "\n",
       "[5 rows x 25 columns]"
      ]
     },
     "execution_count": 71,
     "metadata": {},
     "output_type": "execute_result"
    }
   ],
   "source": [
    "import pandas as pd\n",
    "import numpy as np\n",
    "import statsmodels.api as sm\n",
    "import seaborn as sb\n",
    "import matplotlib.pyplot as plt\n",
    "from patsy import dmatrices\n",
    "from statsmodels.stats.outliers_influence import variance_inflation_factor\n",
    "%matplotlib inline\n",
    "\n",
    "df_raw = pd.read_csv('uswtdb_v3_1_20200717.csv')\n",
    "df_raw.head()"
   ]
  },
  {
   "cell_type": "code",
   "execution_count": 72,
   "metadata": {},
   "outputs": [
    {
     "data": {
      "text/plain": [
       "turbine_id          int64\n",
       "faa_ors            object\n",
       "faa_asn            object\n",
       "usgs_pr_id        float64\n",
       "eia_id            float64\n",
       "t_state            object\n",
       "t_county           object\n",
       "t_fips              int64\n",
       "project_name       object\n",
       "year_online       float64\n",
       "p_tnum              int64\n",
       "p_cap              object\n",
       "t_manufacturer     object\n",
       "t_model            object\n",
       "t_cap             float64\n",
       "t_hub_height      float64\n",
       "t_rotor_d         float64\n",
       "t_rsa             float64\n",
       "t_total_height    float64\n",
       "t_conf_atr          int64\n",
       "t_conf_loc          int64\n",
       "t_img_date         object\n",
       "t_img_srce         object\n",
       "xlong             float64\n",
       "ylat              float64\n",
       "dtype: object"
      ]
     },
     "execution_count": 72,
     "metadata": {},
     "output_type": "execute_result"
    }
   ],
   "source": [
    "df_raw.dtypes"
   ]
  },
  {
   "cell_type": "markdown",
   "metadata": {},
   "source": [
    "## Data Cleaning"
   ]
  },
  {
   "cell_type": "code",
   "execution_count": 81,
   "metadata": {},
   "outputs": [],
   "source": [
    "df = df_raw.filter(['t_manufacturer', 't_model', 't_cap', 't_hub_height', 't_rotor_d', 't_rsa', 't_total_height', 't_state', 't_conf_atr', 't_conf_loc'], axis=1)"
   ]
  },
  {
   "cell_type": "code",
   "execution_count": 82,
   "metadata": {},
   "outputs": [],
   "source": [
    "df.dropna(inplace= True)"
   ]
  },
  {
   "cell_type": "code",
   "execution_count": 83,
   "metadata": {},
   "outputs": [
    {
     "data": {
      "text/plain": [
       "array([  50.,   65.,  100.,  500.,  550.,  600.,  650.,  660.,  676.,\n",
       "        700.,  710.,  750.,  850.,  900.,  950., 1000., 1250., 1300.,\n",
       "       1500., 1600., 1620., 1650., 1670., 1680., 1700., 1800., 1815.,\n",
       "       1850., 2000., 2050., 2100., 2200., 2300., 2350., 2370., 2400.,\n",
       "       2500., 2850., 3000., 3075., 3600.])"
      ]
     },
     "execution_count": 83,
     "metadata": {},
     "output_type": "execute_result"
    }
   ],
   "source": [
    "df['t_cap'].sort_values().unique()"
   ]
  },
  {
   "cell_type": "code",
   "execution_count": 84,
   "metadata": {},
   "outputs": [
    {
     "data": {
      "text/plain": [
       "array([ 15. ,  21. ,  40. ,  42. ,  44. ,  45. ,  47. ,  48. ,  50. ,\n",
       "        52. ,  54. ,  57. ,  58. ,  59. ,  60. ,  61.4,  62. ,  64. ,\n",
       "        65. ,  66. ,  70. ,  70.5,  72. ,  77. ,  80. ,  82. ,  82.3,\n",
       "        82.5,  83. ,  85.5,  86.8,  87. ,  87.5,  88. ,  89. ,  90. ,\n",
       "        91. ,  91.5,  92. ,  92.5,  93. ,  95. ,  96. ,  97. , 100. ,\n",
       "       101. , 102. , 103. , 108. , 110. , 112. , 116. , 117. , 120. ])"
      ]
     },
     "execution_count": 84,
     "metadata": {},
     "output_type": "execute_result"
    }
   ],
   "source": [
    "df['t_rotor_d'].sort_values().unique()"
   ]
  },
  {
   "cell_type": "code",
   "execution_count": 85,
   "metadata": {},
   "outputs": [
    {
     "data": {
      "text/plain": [
       "array([1, 2, 3])"
      ]
     },
     "execution_count": 85,
     "metadata": {},
     "output_type": "execute_result"
    }
   ],
   "source": [
    "df['t_conf_atr'].sort_values().unique()"
   ]
  },
  {
   "cell_type": "code",
   "execution_count": 86,
   "metadata": {},
   "outputs": [
    {
     "data": {
      "text/plain": [
       "array([3])"
      ]
     },
     "execution_count": 86,
     "metadata": {},
     "output_type": "execute_result"
    }
   ],
   "source": [
    "df['t_conf_loc'].sort_values().unique()"
   ]
  },
  {
   "cell_type": "code",
   "execution_count": 87,
   "metadata": {},
   "outputs": [
    {
     "data": {
      "text/plain": [
       "array(['AAER', 'AOC', 'Acciona', 'Alstom', 'Bonus',\n",
       "       'Changzhou Railcar Propulsion Engineering Research and Development Center',\n",
       "       'China Creative Wind Energy', 'Clipper', 'DeWind', 'EWT', 'Enron',\n",
       "       'Entegrity', 'Fuhrlander', 'GE Wind', 'Gamesa', 'Goldwind',\n",
       "       'Guodian', 'Hyundai', 'Mitsubishi', 'NEG Micon', 'NedWind',\n",
       "       'Nordex', 'Nordic', 'Northern Power Systems', 'REpower', 'RRB',\n",
       "       'Samsung', 'Sany', 'Siemens', 'Siemens Gamesa Renewable Energy',\n",
       "       'Sinovel', 'Suzlon', 'Unison', 'Vensys', 'Vestas',\n",
       "       'Vestas North America', 'Zond'], dtype=object)"
      ]
     },
     "execution_count": 87,
     "metadata": {},
     "output_type": "execute_result"
    }
   ],
   "source": [
    "df['t_manufacturer'].sort_values().unique()"
   ]
  },
  {
   "cell_type": "code",
   "execution_count": 88,
   "metadata": {},
   "outputs": [
    {
     "name": "stdout",
     "output_type": "stream",
     "text": [
      "<class 'pandas.core.frame.DataFrame'>\n",
      "Int64Index: 21878 entries, 170 to 60712\n",
      "Data columns (total 10 columns):\n",
      " #   Column          Non-Null Count  Dtype  \n",
      "---  ------          --------------  -----  \n",
      " 0   t_manufacturer  21878 non-null  object \n",
      " 1   t_model         21878 non-null  object \n",
      " 2   t_cap           21878 non-null  float64\n",
      " 3   t_hub_height    21878 non-null  float64\n",
      " 4   t_rotor_d       21878 non-null  float64\n",
      " 5   t_rsa           21878 non-null  float64\n",
      " 6   t_total_height  21878 non-null  float64\n",
      " 7   t_state         21878 non-null  object \n",
      " 8   t_conf_atr      21878 non-null  int64  \n",
      " 9   t_conf_loc      21878 non-null  int64  \n",
      "dtypes: float64(5), int64(2), object(3)\n",
      "memory usage: 1.8+ MB\n"
     ]
    }
   ],
   "source": [
    "df.info()"
   ]
  },
  {
   "cell_type": "markdown",
   "metadata": {},
   "source": [
    "## Single Variate Regression"
   ]
  },
  {
   "cell_type": "markdown",
   "metadata": {},
   "source": [
    "Explore the relationship of turbine rotor diameter on turbine rated capacity using Ordinary Least Sqaures method."
   ]
  },
  {
   "cell_type": "code",
   "execution_count": 89,
   "metadata": {},
   "outputs": [
    {
     "data": {
      "text/html": [
       "<table class=\"simpletable\">\n",
       "<caption>OLS Regression Results</caption>\n",
       "<tr>\n",
       "  <th>Dep. Variable:</th>          <td>t_cap</td>      <th>  R-squared:         </th>  <td>   0.648</td>  \n",
       "</tr>\n",
       "<tr>\n",
       "  <th>Model:</th>                   <td>OLS</td>       <th>  Adj. R-squared:    </th>  <td>   0.648</td>  \n",
       "</tr>\n",
       "<tr>\n",
       "  <th>Method:</th>             <td>Least Squares</td>  <th>  F-statistic:       </th>  <td>4.030e+04</td> \n",
       "</tr>\n",
       "<tr>\n",
       "  <th>Date:</th>             <td>Fri, 13 Nov 2020</td> <th>  Prob (F-statistic):</th>   <td>  0.00</td>   \n",
       "</tr>\n",
       "<tr>\n",
       "  <th>Time:</th>                 <td>08:32:00</td>     <th>  Log-Likelihood:    </th> <td>-1.5567e+05</td>\n",
       "</tr>\n",
       "<tr>\n",
       "  <th>No. Observations:</th>      <td> 21878</td>      <th>  AIC:               </th>  <td>3.114e+05</td> \n",
       "</tr>\n",
       "<tr>\n",
       "  <th>Df Residuals:</th>          <td> 21876</td>      <th>  BIC:               </th>  <td>3.114e+05</td> \n",
       "</tr>\n",
       "<tr>\n",
       "  <th>Df Model:</th>              <td>     1</td>      <th>                     </th>      <td> </td>     \n",
       "</tr>\n",
       "<tr>\n",
       "  <th>Covariance Type:</th>      <td>nonrobust</td>    <th>                     </th>      <td> </td>     \n",
       "</tr>\n",
       "</table>\n",
       "<table class=\"simpletable\">\n",
       "<tr>\n",
       "      <td></td>         <th>coef</th>     <th>std err</th>      <th>t</th>      <th>P>|t|</th>  <th>[0.025</th>    <th>0.975]</th>  \n",
       "</tr>\n",
       "<tr>\n",
       "  <th>intercept</th> <td> -539.6559</td> <td>   11.371</td> <td>  -47.461</td> <td> 0.000</td> <td> -561.943</td> <td> -517.369</td>\n",
       "</tr>\n",
       "<tr>\n",
       "  <th>t_rotor_d</th> <td>   26.7385</td> <td>    0.133</td> <td>  200.756</td> <td> 0.000</td> <td>   26.477</td> <td>   27.000</td>\n",
       "</tr>\n",
       "</table>\n",
       "<table class=\"simpletable\">\n",
       "<tr>\n",
       "  <th>Omnibus:</th>       <td>4876.271</td> <th>  Durbin-Watson:     </th> <td>   0.101</td> \n",
       "</tr>\n",
       "<tr>\n",
       "  <th>Prob(Omnibus):</th>  <td> 0.000</td>  <th>  Jarque-Bera (JB):  </th> <td>15048.561</td>\n",
       "</tr>\n",
       "<tr>\n",
       "  <th>Skew:</th>           <td> 1.145</td>  <th>  Prob(JB):          </th> <td>    0.00</td> \n",
       "</tr>\n",
       "<tr>\n",
       "  <th>Kurtosis:</th>       <td> 6.356</td>  <th>  Cond. No.          </th> <td>    482.</td> \n",
       "</tr>\n",
       "</table><br/><br/>Notes:<br/>[1] Standard Errors assume that the covariance matrix of the errors is correctly specified."
      ],
      "text/plain": [
       "<class 'statsmodels.iolib.summary.Summary'>\n",
       "\"\"\"\n",
       "                            OLS Regression Results                            \n",
       "==============================================================================\n",
       "Dep. Variable:                  t_cap   R-squared:                       0.648\n",
       "Model:                            OLS   Adj. R-squared:                  0.648\n",
       "Method:                 Least Squares   F-statistic:                 4.030e+04\n",
       "Date:                Fri, 13 Nov 2020   Prob (F-statistic):               0.00\n",
       "Time:                        08:32:00   Log-Likelihood:            -1.5567e+05\n",
       "No. Observations:               21878   AIC:                         3.114e+05\n",
       "Df Residuals:                   21876   BIC:                         3.114e+05\n",
       "Df Model:                           1                                         \n",
       "Covariance Type:            nonrobust                                         \n",
       "==============================================================================\n",
       "                 coef    std err          t      P>|t|      [0.025      0.975]\n",
       "------------------------------------------------------------------------------\n",
       "intercept   -539.6559     11.371    -47.461      0.000    -561.943    -517.369\n",
       "t_rotor_d     26.7385      0.133    200.756      0.000      26.477      27.000\n",
       "==============================================================================\n",
       "Omnibus:                     4876.271   Durbin-Watson:                   0.101\n",
       "Prob(Omnibus):                  0.000   Jarque-Bera (JB):            15048.561\n",
       "Skew:                           1.145   Prob(JB):                         0.00\n",
       "Kurtosis:                       6.356   Cond. No.                         482.\n",
       "==============================================================================\n",
       "\n",
       "Notes:\n",
       "[1] Standard Errors assume that the covariance matrix of the errors is correctly specified.\n",
       "\"\"\""
      ]
     },
     "execution_count": 89,
     "metadata": {},
     "output_type": "execute_result"
    }
   ],
   "source": [
    "df['intercept'] = 1\n",
    "lm = sm.OLS(df['t_cap'], df[['intercept', 't_rotor_d']])\n",
    "results = lm.fit()\n",
    "results.summary()"
   ]
  },
  {
   "cell_type": "code",
   "execution_count": 90,
   "metadata": {
    "scrolled": false
   },
   "outputs": [
    {
     "name": "stderr",
     "output_type": "stream",
     "text": [
      "*c* argument looks like a single numeric RGB or RGBA sequence, which should be avoided as value-mapping will have precedence in case its length matches with *x* & *y*.  Please use the *color* keyword-argument or provide a 2-D array with a single row if you intend to specify the same RGB or RGBA value for all points.\n"
     ]
    },
    {
     "data": {
      "image/png": "[encoded data removed]",
      "text/plain": [
       "<Figure size 432x288 with 1 Axes>"
      ]
     },
     "metadata": {
      "needs_background": "light"
     },
     "output_type": "display_data"
    }
   ],
   "source": [
    "N = len(df)\n",
    "x = df['t_rotor_d']\n",
    "y = df['t_cap']\n",
    "colors = (0,0,0)\n",
    "area = np.pi*2\n",
    "\n",
    "# Plot\n",
    "plt.scatter(x, y, s=area, c=colors, alpha=0.5)\n",
    "plt.title('Effect of Rotor Size on Rated Capacity')\n",
    "plt.xlabel('Diameter (M)')\n",
    "plt.ylabel('Generation Capacity (kW)')\n",
    "m, b = np.polyfit(x, y, 1)\n",
    "plt.plot(x, m*x+b)\n",
    "plt.show()"
   ]
  },
  {
   "cell_type": "markdown",
   "metadata": {},
   "source": [
    "## Multivariate Regression "
   ]
  },
  {
   "cell_type": "markdown",
   "metadata": {},
   "source": [
    "### with quantitative data only"
   ]
  },
  {
   "cell_type": "code",
   "execution_count": 91,
   "metadata": {},
   "outputs": [
    {
     "data": {
      "text/plain": [
       "<seaborn.axisgrid.PairGrid at 0x7fad722d8940>"
      ]
     },
     "execution_count": 91,
     "metadata": {},
     "output_type": "execute_result"
    },
    {
     "data": {
      "image/png": "[encoded data removed]",
      "text/plain": [
       "<Figure size 540x540 with 12 Axes>"
      ]
     },
     "metadata": {
      "needs_background": "light"
     },
     "output_type": "display_data"
    }
   ],
   "source": [
    "sb.pairplot(df[[ 't_rotor_d', 't_hub_height', 't_rsa']])"
   ]
  },
  {
   "cell_type": "code",
   "execution_count": 92,
   "metadata": {},
   "outputs": [
    {
     "data": {
      "text/html": [
       "<table class=\"simpletable\">\n",
       "<caption>OLS Regression Results</caption>\n",
       "<tr>\n",
       "  <th>Dep. Variable:</th>          <td>t_cap</td>      <th>  R-squared:         </th>  <td>   0.628</td>  \n",
       "</tr>\n",
       "<tr>\n",
       "  <th>Model:</th>                   <td>OLS</td>       <th>  Adj. R-squared:    </th>  <td>   0.628</td>  \n",
       "</tr>\n",
       "<tr>\n",
       "  <th>Method:</th>             <td>Least Squares</td>  <th>  F-statistic:       </th>  <td>1.844e+04</td> \n",
       "</tr>\n",
       "<tr>\n",
       "  <th>Date:</th>             <td>Fri, 13 Nov 2020</td> <th>  Prob (F-statistic):</th>   <td>  0.00</td>   \n",
       "</tr>\n",
       "<tr>\n",
       "  <th>Time:</th>                 <td>08:32:04</td>     <th>  Log-Likelihood:    </th> <td>-1.5629e+05</td>\n",
       "</tr>\n",
       "<tr>\n",
       "  <th>No. Observations:</th>      <td> 21878</td>      <th>  AIC:               </th>  <td>3.126e+05</td> \n",
       "</tr>\n",
       "<tr>\n",
       "  <th>Df Residuals:</th>          <td> 21875</td>      <th>  BIC:               </th>  <td>3.126e+05</td> \n",
       "</tr>\n",
       "<tr>\n",
       "  <th>Df Model:</th>              <td>     2</td>      <th>                     </th>      <td> </td>     \n",
       "</tr>\n",
       "<tr>\n",
       "  <th>Covariance Type:</th>      <td>nonrobust</td>    <th>                     </th>      <td> </td>     \n",
       "</tr>\n",
       "</table>\n",
       "<table class=\"simpletable\">\n",
       "<tr>\n",
       "        <td></td>          <th>coef</th>     <th>std err</th>      <th>t</th>      <th>P>|t|</th>  <th>[0.025</th>    <th>0.975]</th>  \n",
       "</tr>\n",
       "<tr>\n",
       "  <th>intercept</th>    <td>  371.5719</td> <td>   17.823</td> <td>   20.848</td> <td> 0.000</td> <td>  336.638</td> <td>  406.506</td>\n",
       "</tr>\n",
       "<tr>\n",
       "  <th>t_hub_height</th> <td>    1.8732</td> <td>    0.284</td> <td>    6.597</td> <td> 0.000</td> <td>    1.317</td> <td>    2.430</td>\n",
       "</tr>\n",
       "<tr>\n",
       "  <th>t_rsa</th>        <td>    0.2077</td> <td>    0.001</td> <td>  139.369</td> <td> 0.000</td> <td>    0.205</td> <td>    0.211</td>\n",
       "</tr>\n",
       "</table>\n",
       "<table class=\"simpletable\">\n",
       "<tr>\n",
       "  <th>Omnibus:</th>       <td>4329.842</td> <th>  Durbin-Watson:     </th> <td>   0.101</td> \n",
       "</tr>\n",
       "<tr>\n",
       "  <th>Prob(Omnibus):</th>  <td> 0.000</td>  <th>  Jarque-Bera (JB):  </th> <td>12593.838</td>\n",
       "</tr>\n",
       "<tr>\n",
       "  <th>Skew:</th>           <td> 1.040</td>  <th>  Prob(JB):          </th> <td>    0.00</td> \n",
       "</tr>\n",
       "<tr>\n",
       "  <th>Kurtosis:</th>       <td> 6.081</td>  <th>  Cond. No.          </th> <td>5.18e+04</td> \n",
       "</tr>\n",
       "</table><br/><br/>Notes:<br/>[1] Standard Errors assume that the covariance matrix of the errors is correctly specified.<br/>[2] The condition number is large, 5.18e+04. This might indicate that there are<br/>strong multicollinearity or other numerical problems."
      ],
      "text/plain": [
       "<class 'statsmodels.iolib.summary.Summary'>\n",
       "\"\"\"\n",
       "                            OLS Regression Results                            \n",
       "==============================================================================\n",
       "Dep. Variable:                  t_cap   R-squared:                       0.628\n",
       "Model:                            OLS   Adj. R-squared:                  0.628\n",
       "Method:                 Least Squares   F-statistic:                 1.844e+04\n",
       "Date:                Fri, 13 Nov 2020   Prob (F-statistic):               0.00\n",
       "Time:                        08:32:04   Log-Likelihood:            -1.5629e+05\n",
       "No. Observations:               21878   AIC:                         3.126e+05\n",
       "Df Residuals:                   21875   BIC:                         3.126e+05\n",
       "Df Model:                           2                                         \n",
       "Covariance Type:            nonrobust                                         \n",
       "================================================================================\n",
       "                   coef    std err          t      P>|t|      [0.025      0.975]\n",
       "--------------------------------------------------------------------------------\n",
       "intercept      371.5719     17.823     20.848      0.000     336.638     406.506\n",
       "t_hub_height     1.8732      0.284      6.597      0.000       1.317       2.430\n",
       "t_rsa            0.2077      0.001    139.369      0.000       0.205       0.211\n",
       "==============================================================================\n",
       "Omnibus:                     4329.842   Durbin-Watson:                   0.101\n",
       "Prob(Omnibus):                  0.000   Jarque-Bera (JB):            12593.838\n",
       "Skew:                           1.040   Prob(JB):                         0.00\n",
       "Kurtosis:                       6.081   Cond. No.                     5.18e+04\n",
       "==============================================================================\n",
       "\n",
       "Notes:\n",
       "[1] Standard Errors assume that the covariance matrix of the errors is correctly specified.\n",
       "[2] The condition number is large, 5.18e+04. This might indicate that there are\n",
       "strong multicollinearity or other numerical problems.\n",
       "\"\"\""
      ]
     },
     "execution_count": 92,
     "metadata": {},
     "output_type": "execute_result"
    }
   ],
   "source": [
    "df['intercept'] = 1\n",
    "lm = sm.OLS(df['t_cap'], df[['intercept', 't_hub_height', 't_rsa']])\n",
    "results = lm.fit()\n",
    "results.summary()"
   ]
  },
  {
   "cell_type": "markdown",
   "metadata": {},
   "source": [
    "the variance inflation factors indicated very strong multicolleriatybetwen the variable since they are all bigger than 10\n"
   ]
  },
  {
   "cell_type": "code",
   "execution_count": 93,
   "metadata": {},
   "outputs": [
    {
     "data": {
      "text/html": [
       "<div>\n",
       "<style scoped>\n",
       "    .dataframe tbody tr th:only-of-type {\n",
       "        vertical-align: middle;\n",
       "    }\n",
       "\n",
       "    .dataframe tbody tr th {\n",
       "        vertical-align: top;\n",
       "    }\n",
       "\n",
       "    .dataframe thead th {\n",
       "        text-align: right;\n",
       "    }\n",
       "</style>\n",
       "<table border=\"1\" class=\"dataframe\">\n",
       "  <thead>\n",
       "    <tr style=\"text-align: right;\">\n",
       "      <th></th>\n",
       "      <th>VIF Factor</th>\n",
       "      <th>features</th>\n",
       "    </tr>\n",
       "  </thead>\n",
       "  <tbody>\n",
       "    <tr>\n",
       "      <th>0</th>\n",
       "      <td>74.004500</td>\n",
       "      <td>Intercept</td>\n",
       "    </tr>\n",
       "    <tr>\n",
       "      <th>1</th>\n",
       "      <td>1.782427</td>\n",
       "      <td>t_rsa</td>\n",
       "    </tr>\n",
       "    <tr>\n",
       "      <th>2</th>\n",
       "      <td>1.782427</td>\n",
       "      <td>t_hub_height</td>\n",
       "    </tr>\n",
       "  </tbody>\n",
       "</table>\n",
       "</div>"
      ],
      "text/plain": [
       "   VIF Factor      features\n",
       "0   74.004500     Intercept\n",
       "1    1.782427         t_rsa\n",
       "2    1.782427  t_hub_height"
      ]
     },
     "execution_count": 93,
     "metadata": {},
     "output_type": "execute_result"
    }
   ],
   "source": [
    "# let's take a look at VIFs Variance Inflation Factor\n",
    "y, X = dmatrices('t_cap ~ t_rsa + t_hub_height', df, return_type = 'dataframe')\n",
    "\n",
    "vif = pd.DataFrame()\n",
    "vif[\"VIF Factor\"] = [variance_inflation_factor(X.values, i) for i in range(X.shape[1])]\n",
    "vif[\"features\"] = X.columns\n",
    "vif"
   ]
  },
  {
   "cell_type": "markdown",
   "metadata": {},
   "source": [
    "### with categorical data "
   ]
  },
  {
   "cell_type": "code",
   "execution_count": 94,
   "metadata": {},
   "outputs": [
    {
     "data": {
      "text/plain": [
       "t_manufacturer\n",
       "NEG Micon       1\n",
       "AAER            2\n",
       "Zond            5\n",
       "Clipper         8\n",
       "NedWind        13\n",
       "Gamesa         65\n",
       "Siemens       191\n",
       "Mitsubishi    226\n",
       "REpower       245\n",
       "Vestas        567\n",
       "GE Wind       570\n",
       "dtype: int64"
      ]
     },
     "execution_count": 94,
     "metadata": {},
     "output_type": "execute_result"
    }
   ],
   "source": [
    "# see list of turbine manufacturer in CA\n",
    "df.groupby(['t_state', 't_manufacturer' ]).size()['CA'].sort_values()"
   ]
  },
  {
   "cell_type": "code",
   "execution_count": 95,
   "metadata": {},
   "outputs": [],
   "source": [
    "#create dataframe for turbine in CA only\n",
    "df['CA'] = np.where(df['t_state']== 'CA', True, False)\n",
    "df_CA_manu = df.loc[df['CA'] == True]"
   ]
  },
  {
   "cell_type": "code",
   "execution_count": 312,
   "metadata": {},
   "outputs": [
    {
     "name": "stderr",
     "output_type": "stream",
     "text": [
      "/opt/miniconda3/lib/python3.8/site-packages/pandas/core/frame.py:2963: SettingWithCopyWarning: \n",
      "A value is trying to be set on a copy of a slice from a DataFrame.\n",
      "Try using .loc[row_indexer,col_indexer] = value instead\n",
      "\n",
      "See the caveats in the documentation: https://pandas.pydata.org/pandas-docs/stable/user_guide/indexing.html#returning-a-view-versus-a-copy\n",
      "  self[k1] = value[k2]\n"
     ]
    }
   ],
   "source": [
    "df_CA_manu[['AAER', 'Bonus','Clipper', 'Danwin', 'GE Wind', 'Gamesa','Mitsubishi', 'NEG Micon', 'NedWind','Nordtank','Norwin','REpower', 'Siemens', 'Vestas', 'Vestas North America','Zond']] = pd.get_dummies(df_CA_manu['t_manufacturer'])"
   ]
  },
  {
   "cell_type": "code",
   "execution_count": 315,
   "metadata": {},
   "outputs": [
    {
     "name": "stderr",
     "output_type": "stream",
     "text": [
      "<ipython-input-315-be0394973ea0>:1: SettingWithCopyWarning: \n",
      "A value is trying to be set on a copy of a slice from a DataFrame.\n",
      "Try using .loc[row_indexer,col_indexer] = value instead\n",
      "\n",
      "See the caveats in the documentation: https://pandas.pydata.org/pandas-docs/stable/user_guide/indexing.html#returning-a-view-versus-a-copy\n",
      "  df_CA_manu['intercept'] = 1\n"
     ]
    },
    {
     "data": {
      "text/html": [
       "<table class=\"simpletable\">\n",
       "<caption>OLS Regression Results</caption>\n",
       "<tr>\n",
       "  <th>Dep. Variable:</th>          <td>t_cap</td>      <th>  R-squared:         </th> <td>   0.233</td> \n",
       "</tr>\n",
       "<tr>\n",
       "  <th>Model:</th>                   <td>OLS</td>       <th>  Adj. R-squared:    </th> <td>   0.230</td> \n",
       "</tr>\n",
       "<tr>\n",
       "  <th>Method:</th>             <td>Least Squares</td>  <th>  F-statistic:       </th> <td>   80.03</td> \n",
       "</tr>\n",
       "<tr>\n",
       "  <th>Date:</th>             <td>Mon, 28 Sep 2020</td> <th>  Prob (F-statistic):</th> <td>2.60e-214</td>\n",
       "</tr>\n",
       "<tr>\n",
       "  <th>Time:</th>                 <td>13:18:10</td>     <th>  Log-Likelihood:    </th> <td> -32748.</td> \n",
       "</tr>\n",
       "<tr>\n",
       "  <th>No. Observations:</th>      <td>  3967</td>      <th>  AIC:               </th> <td>6.553e+04</td>\n",
       "</tr>\n",
       "<tr>\n",
       "  <th>Df Residuals:</th>          <td>  3951</td>      <th>  BIC:               </th> <td>6.563e+04</td>\n",
       "</tr>\n",
       "<tr>\n",
       "  <th>Df Model:</th>              <td>    15</td>      <th>                     </th>     <td> </td>    \n",
       "</tr>\n",
       "<tr>\n",
       "  <th>Covariance Type:</th>      <td>nonrobust</td>    <th>                     </th>     <td> </td>    \n",
       "</tr>\n",
       "</table>\n",
       "<table class=\"simpletable\">\n",
       "<tr>\n",
       "            <td></td>              <th>coef</th>     <th>std err</th>      <th>t</th>      <th>P>|t|</th>  <th>[0.025</th>    <th>0.975]</th>  \n",
       "</tr>\n",
       "<tr>\n",
       "  <th>intercept</th>            <td> 1385.9717</td> <td>   22.204</td> <td>   62.421</td> <td> 0.000</td> <td> 1342.440</td> <td> 1429.504</td>\n",
       "</tr>\n",
       "<tr>\n",
       "  <th>AAER</th>                 <td>  114.0283</td> <td>  539.023</td> <td>    0.212</td> <td> 0.832</td> <td> -942.762</td> <td> 1170.818</td>\n",
       "</tr>\n",
       "<tr>\n",
       "  <th>Bonus</th>                <td>-1280.8365</td> <td>  110.688</td> <td>  -11.572</td> <td> 0.000</td> <td>-1497.848</td> <td>-1063.825</td>\n",
       "</tr>\n",
       "<tr>\n",
       "  <th>Clipper</th>              <td> 1114.0283</td> <td>  330.549</td> <td>    3.370</td> <td> 0.001</td> <td>  465.965</td> <td> 1762.092</td>\n",
       "</tr>\n",
       "<tr>\n",
       "  <th>Danwin</th>               <td>-1225.9717</td> <td>   89.775</td> <td>  -13.656</td> <td> 0.000</td> <td>-1401.982</td> <td>-1049.961</td>\n",
       "</tr>\n",
       "<tr>\n",
       "  <th>GE Wind</th>              <td>  311.5693</td> <td>   38.884</td> <td>    8.013</td> <td> 0.000</td> <td>  235.336</td> <td>  387.803</td>\n",
       "</tr>\n",
       "<tr>\n",
       "  <th>Gamesa</th>               <td>  614.0283</td> <td>  103.587</td> <td>    5.928</td> <td> 0.000</td> <td>  410.940</td> <td>  817.117</td>\n",
       "</tr>\n",
       "<tr>\n",
       "  <th>Mitsubishi</th>           <td> -528.5459</td> <td>   58.007</td> <td>   -9.112</td> <td> 0.000</td> <td> -642.273</td> <td> -414.819</td>\n",
       "</tr>\n",
       "<tr>\n",
       "  <th>NEG Micon</th>            <td> -697.8251</td> <td>   89.411</td> <td>   -7.805</td> <td> 0.000</td> <td> -873.122</td> <td> -522.528</td>\n",
       "</tr>\n",
       "<tr>\n",
       "  <th>NedWind</th>              <td> -885.9717</td> <td>  259.670</td> <td>   -3.412</td> <td> 0.001</td> <td>-1395.071</td> <td> -376.872</td>\n",
       "</tr>\n",
       "<tr>\n",
       "  <th>Nordtank</th>             <td>-1320.9717</td> <td>  111.414</td> <td>  -11.856</td> <td> 0.000</td> <td>-1539.405</td> <td>-1102.538</td>\n",
       "</tr>\n",
       "<tr>\n",
       "  <th>Norwin</th>               <td>-1160.9717</td> <td>  933.088</td> <td>   -1.244</td> <td> 0.213</td> <td>-2990.350</td> <td>  668.407</td>\n",
       "</tr>\n",
       "<tr>\n",
       "  <th>REpower</th>              <td>  648.7222</td> <td>   63.598</td> <td>   10.200</td> <td> 0.000</td> <td>  524.035</td> <td>  773.410</td>\n",
       "</tr>\n",
       "<tr>\n",
       "  <th>Siemens</th>              <td>  941.4450</td> <td>   64.177</td> <td>   14.670</td> <td> 0.000</td> <td>  815.622</td> <td> 1067.268</td>\n",
       "</tr>\n",
       "<tr>\n",
       "  <th>Vestas North America</th> <td> 1614.0283</td> <td>  933.088</td> <td>    1.730</td> <td> 0.084</td> <td> -215.350</td> <td> 3443.407</td>\n",
       "</tr>\n",
       "<tr>\n",
       "  <th>Zond</th>                 <td> -635.9717</td> <td>  112.910</td> <td>   -5.633</td> <td> 0.000</td> <td> -857.340</td> <td> -414.603</td>\n",
       "</tr>\n",
       "</table>\n",
       "<table class=\"simpletable\">\n",
       "<tr>\n",
       "  <th>Omnibus:</th>       <td>199.393</td> <th>  Durbin-Watson:     </th> <td>   0.062</td>\n",
       "</tr>\n",
       "<tr>\n",
       "  <th>Prob(Omnibus):</th> <td> 0.000</td>  <th>  Jarque-Bera (JB):  </th> <td> 224.366</td>\n",
       "</tr>\n",
       "<tr>\n",
       "  <th>Skew:</th>          <td> 0.571</td>  <th>  Prob(JB):          </th> <td>1.90e-49</td>\n",
       "</tr>\n",
       "<tr>\n",
       "  <th>Kurtosis:</th>      <td> 2.766</td>  <th>  Cond. No.          </th> <td>    65.2</td>\n",
       "</tr>\n",
       "</table><br/><br/>Notes:<br/>[1] Standard Errors assume that the covariance matrix of the errors is correctly specified."
      ],
      "text/plain": [
       "<class 'statsmodels.iolib.summary.Summary'>\n",
       "\"\"\"\n",
       "                            OLS Regression Results                            \n",
       "==============================================================================\n",
       "Dep. Variable:                  t_cap   R-squared:                       0.233\n",
       "Model:                            OLS   Adj. R-squared:                  0.230\n",
       "Method:                 Least Squares   F-statistic:                     80.03\n",
       "Date:                Mon, 28 Sep 2020   Prob (F-statistic):          2.60e-214\n",
       "Time:                        13:18:10   Log-Likelihood:                -32748.\n",
       "No. Observations:                3967   AIC:                         6.553e+04\n",
       "Df Residuals:                    3951   BIC:                         6.563e+04\n",
       "Df Model:                          15                                         \n",
       "Covariance Type:            nonrobust                                         \n",
       "========================================================================================\n",
       "                           coef    std err          t      P>|t|      [0.025      0.975]\n",
       "----------------------------------------------------------------------------------------\n",
       "intercept             1385.9717     22.204     62.421      0.000    1342.440    1429.504\n",
       "AAER                   114.0283    539.023      0.212      0.832    -942.762    1170.818\n",
       "Bonus                -1280.8365    110.688    -11.572      0.000   -1497.848   -1063.825\n",
       "Clipper               1114.0283    330.549      3.370      0.001     465.965    1762.092\n",
       "Danwin               -1225.9717     89.775    -13.656      0.000   -1401.982   -1049.961\n",
       "GE Wind                311.5693     38.884      8.013      0.000     235.336     387.803\n",
       "Gamesa                 614.0283    103.587      5.928      0.000     410.940     817.117\n",
       "Mitsubishi            -528.5459     58.007     -9.112      0.000    -642.273    -414.819\n",
       "NEG Micon             -697.8251     89.411     -7.805      0.000    -873.122    -522.528\n",
       "NedWind               -885.9717    259.670     -3.412      0.001   -1395.071    -376.872\n",
       "Nordtank             -1320.9717    111.414    -11.856      0.000   -1539.405   -1102.538\n",
       "Norwin               -1160.9717    933.088     -1.244      0.213   -2990.350     668.407\n",
       "REpower                648.7222     63.598     10.200      0.000     524.035     773.410\n",
       "Siemens                941.4450     64.177     14.670      0.000     815.622    1067.268\n",
       "Vestas North America  1614.0283    933.088      1.730      0.084    -215.350    3443.407\n",
       "Zond                  -635.9717    112.910     -5.633      0.000    -857.340    -414.603\n",
       "==============================================================================\n",
       "Omnibus:                      199.393   Durbin-Watson:                   0.062\n",
       "Prob(Omnibus):                  0.000   Jarque-Bera (JB):              224.366\n",
       "Skew:                           0.571   Prob(JB):                     1.90e-49\n",
       "Kurtosis:                       2.766   Cond. No.                         65.2\n",
       "==============================================================================\n",
       "\n",
       "Notes:\n",
       "[1] Standard Errors assume that the covariance matrix of the errors is correctly specified.\n",
       "\"\"\""
      ]
     },
     "execution_count": 315,
     "metadata": {},
     "output_type": "execute_result"
    }
   ],
   "source": [
    "df_CA_manu['intercept'] = 1\n",
    "lm = sm.OLS(df_CA_manu['t_cap'], df_CA_manu[['intercept', 'AAER', 'Bonus','Clipper', 'Danwin', 'GE Wind', 'Gamesa',\n",
    "       'Mitsubishi', 'NEG Micon', 'NedWind','Nordtank','Norwin',\n",
    "       'REpower', 'Siemens','Vestas North America','Zond']])\n",
    "results = lm.fit()\n",
    "results.summary()\n",
    "#Vestas is baseline. this will tell us how all the other turbine compare to the Vestas turbine, which are the most \n",
    "# frequently installed turbine in CA"
   ]
  },
  {
   "cell_type": "markdown",
   "metadata": {},
   "source": [
    "Let's take a look at our top three most installed turbines: Vestas, GE Wind, and Mitsubishi. So for a Vestas turbine, we predict that the rated capacity is 1386kWs. And for example, a GE Wind turbine is predicted to be 312kWs more than a Vestas, whereas a Mitsubishi is predicted to be 528 less than a Vestas. "
   ]
  },
  {
   "cell_type": "markdown",
   "metadata": {},
   "source": [
    "## Logistic Regression (Logit)"
   ]
  },
  {
   "cell_type": "markdown",
   "metadata": {},
   "source": [
    "In this example, we will treat the t_conf_atr which is the confidence lvel in the accuracy of the attribute like a categorical variable. Since there are three [1, 2, 3] which are equivalent to [low, medium, high]. \n",
    "\n",
    "We will use the attribute confidence to predict whether this turbine is in CA. "
   ]
  },
  {
   "cell_type": "markdown",
   "metadata": {},
   "source": [
    "The question we will mark here is whether the turbines in CA tend to have a high level of confidence in the data attributes. So if the data for the turbines in CA reliable?"
   ]
  },
  {
   "cell_type": "code",
   "execution_count": 318,
   "metadata": {},
   "outputs": [
    {
     "data": {
      "text/html": [
       "<div>\n",
       "<style scoped>\n",
       "    .dataframe tbody tr th:only-of-type {\n",
       "        vertical-align: middle;\n",
       "    }\n",
       "\n",
       "    .dataframe tbody tr th {\n",
       "        vertical-align: top;\n",
       "    }\n",
       "\n",
       "    .dataframe thead th {\n",
       "        text-align: right;\n",
       "    }\n",
       "</style>\n",
       "<table border=\"1\" class=\"dataframe\">\n",
       "  <thead>\n",
       "    <tr style=\"text-align: right;\">\n",
       "      <th></th>\n",
       "      <th>t_manufacturer</th>\n",
       "      <th>t_model</th>\n",
       "      <th>t_cap</th>\n",
       "      <th>t_hub_height</th>\n",
       "      <th>t_rotor_d</th>\n",
       "      <th>t_rsa</th>\n",
       "      <th>t_total_height</th>\n",
       "      <th>t_state</th>\n",
       "      <th>t_conf_atr</th>\n",
       "      <th>t_conf_loc</th>\n",
       "      <th>intercept</th>\n",
       "      <th>CA</th>\n",
       "    </tr>\n",
       "  </thead>\n",
       "  <tbody>\n",
       "    <tr>\n",
       "      <th>160</th>\n",
       "      <td>Nordex</td>\n",
       "      <td>AW125/3000</td>\n",
       "      <td>3000.0</td>\n",
       "      <td>87.5</td>\n",
       "      <td>125.0</td>\n",
       "      <td>12271.85</td>\n",
       "      <td>150.0</td>\n",
       "      <td>IA</td>\n",
       "      <td>3</td>\n",
       "      <td>3</td>\n",
       "      <td>1</td>\n",
       "      <td>False</td>\n",
       "    </tr>\n",
       "    <tr>\n",
       "      <th>161</th>\n",
       "      <td>Nordex</td>\n",
       "      <td>AW125/3000</td>\n",
       "      <td>3000.0</td>\n",
       "      <td>87.5</td>\n",
       "      <td>125.0</td>\n",
       "      <td>12271.85</td>\n",
       "      <td>150.0</td>\n",
       "      <td>IA</td>\n",
       "      <td>3</td>\n",
       "      <td>3</td>\n",
       "      <td>1</td>\n",
       "      <td>False</td>\n",
       "    </tr>\n",
       "    <tr>\n",
       "      <th>162</th>\n",
       "      <td>Nordex</td>\n",
       "      <td>AW125/3000</td>\n",
       "      <td>3000.0</td>\n",
       "      <td>87.5</td>\n",
       "      <td>125.0</td>\n",
       "      <td>12271.85</td>\n",
       "      <td>150.0</td>\n",
       "      <td>IA</td>\n",
       "      <td>3</td>\n",
       "      <td>3</td>\n",
       "      <td>1</td>\n",
       "      <td>False</td>\n",
       "    </tr>\n",
       "    <tr>\n",
       "      <th>163</th>\n",
       "      <td>Nordex</td>\n",
       "      <td>AW125/3000</td>\n",
       "      <td>3000.0</td>\n",
       "      <td>87.5</td>\n",
       "      <td>125.0</td>\n",
       "      <td>12271.85</td>\n",
       "      <td>150.0</td>\n",
       "      <td>IA</td>\n",
       "      <td>3</td>\n",
       "      <td>3</td>\n",
       "      <td>1</td>\n",
       "      <td>False</td>\n",
       "    </tr>\n",
       "    <tr>\n",
       "      <th>164</th>\n",
       "      <td>Nordex</td>\n",
       "      <td>AW125/3000</td>\n",
       "      <td>3000.0</td>\n",
       "      <td>87.5</td>\n",
       "      <td>125.0</td>\n",
       "      <td>12271.85</td>\n",
       "      <td>150.0</td>\n",
       "      <td>IA</td>\n",
       "      <td>3</td>\n",
       "      <td>3</td>\n",
       "      <td>1</td>\n",
       "      <td>False</td>\n",
       "    </tr>\n",
       "  </tbody>\n",
       "</table>\n",
       "</div>"
      ],
      "text/plain": [
       "    t_manufacturer     t_model   t_cap  t_hub_height  t_rotor_d     t_rsa  \\\n",
       "160         Nordex  AW125/3000  3000.0          87.5      125.0  12271.85   \n",
       "161         Nordex  AW125/3000  3000.0          87.5      125.0  12271.85   \n",
       "162         Nordex  AW125/3000  3000.0          87.5      125.0  12271.85   \n",
       "163         Nordex  AW125/3000  3000.0          87.5      125.0  12271.85   \n",
       "164         Nordex  AW125/3000  3000.0          87.5      125.0  12271.85   \n",
       "\n",
       "     t_total_height t_state  t_conf_atr  t_conf_loc  intercept     CA  \n",
       "160           150.0      IA           3           3          1  False  \n",
       "161           150.0      IA           3           3          1  False  \n",
       "162           150.0      IA           3           3          1  False  \n",
       "163           150.0      IA           3           3          1  False  \n",
       "164           150.0      IA           3           3          1  False  "
      ]
     },
     "execution_count": 318,
     "metadata": {},
     "output_type": "execute_result"
    }
   ],
   "source": [
    "df.head()"
   ]
  },
  {
   "cell_type": "markdown",
   "metadata": {},
   "source": [
    "let's use our 'CA' column again to fit a logistic regression model where we would like to predict if a turbine in in CA or not."
   ]
  },
  {
   "cell_type": "code",
   "execution_count": 321,
   "metadata": {},
   "outputs": [],
   "source": [
    "df[['not_CA','CA']] = pd.get_dummies(df['CA'])"
   ]
  },
  {
   "cell_type": "code",
   "execution_count": 322,
   "metadata": {},
   "outputs": [],
   "source": [
    "df = df.drop('not_CA', axis=1)"
   ]
  },
  {
   "cell_type": "code",
   "execution_count": 324,
   "metadata": {},
   "outputs": [
    {
     "name": "stdout",
     "output_type": "stream",
     "text": [
      "0.06838240364062607\n",
      "CA\n",
      "0    1886.312684\n",
      "1    1406.867910\n",
      "Name: t_cap, dtype: float64\n"
     ]
    }
   ],
   "source": [
    "print(df['CA'].mean())\n",
    "print(df.groupby('CA').mean()['t_cap'])"
   ]
  },
  {
   "cell_type": "code",
   "execution_count": 337,
   "metadata": {},
   "outputs": [
    {
     "name": "stdout",
     "output_type": "stream",
     "text": [
      "Optimization terminated successfully.\n",
      "         Current function value: inf\n",
      "         Iterations 8\n"
     ]
    },
    {
     "name": "stderr",
     "output_type": "stream",
     "text": [
      "/opt/miniconda3/lib/python3.8/site-packages/statsmodels/discrete/discrete_model.py:1799: RuntimeWarning: overflow encountered in exp\n",
      "  return 1/(1+np.exp(-X))\n",
      "/opt/miniconda3/lib/python3.8/site-packages/statsmodels/discrete/discrete_model.py:1852: RuntimeWarning: divide by zero encountered in log\n",
      "  return np.sum(np.log(self.cdf(q*np.dot(X,params))))\n",
      "/opt/miniconda3/lib/python3.8/site-packages/statsmodels/discrete/discrete_model.py:1799: RuntimeWarning: overflow encountered in exp\n",
      "  return 1/(1+np.exp(-X))\n",
      "/opt/miniconda3/lib/python3.8/site-packages/statsmodels/discrete/discrete_model.py:1852: RuntimeWarning: divide by zero encountered in log\n",
      "  return np.sum(np.log(self.cdf(q*np.dot(X,params))))\n",
      "/opt/miniconda3/lib/python3.8/site-packages/statsmodels/base/model.py:547: HessianInversionWarning: Inverting hessian failed, no bse or cov_params available\n",
      "  warnings.warn('Inverting hessian failed, no bse or cov_params '\n",
      "/opt/miniconda3/lib/python3.8/site-packages/statsmodels/base/model.py:547: HessianInversionWarning: Inverting hessian failed, no bse or cov_params available\n",
      "  warnings.warn('Inverting hessian failed, no bse or cov_params '\n"
     ]
    },
    {
     "data": {
      "text/html": [
       "<table class=\"simpletable\">\n",
       "<tr>\n",
       "        <td>Model:</td>              <td>Logit</td>      <td>Pseudo R-squared:</td>   <td>inf</td> \n",
       "</tr>\n",
       "<tr>\n",
       "  <td>Dependent Variable:</td>        <td>CA</td>              <td>AIC:</td>          <td>inf</td> \n",
       "</tr>\n",
       "<tr>\n",
       "         <td>Date:</td>        <td>2020-09-28 14:04</td>       <td>BIC:</td>          <td>inf</td> \n",
       "</tr>\n",
       "<tr>\n",
       "   <td>No. Observations:</td>        <td>58012</td>       <td>Log-Likelihood:</td>   <td>-inf</td> \n",
       "</tr>\n",
       "<tr>\n",
       "       <td>Df Model:</td>              <td>6</td>            <td>LL-Null:</td>      <td>0.0000</td>\n",
       "</tr>\n",
       "<tr>\n",
       "     <td>Df Residuals:</td>          <td>58005</td>        <td>LLR p-value:</td>    <td>1.0000</td>\n",
       "</tr>\n",
       "<tr>\n",
       "      <td>Converged:</td>           <td>1.0000</td>           <td>Scale:</td>       <td>1.0000</td>\n",
       "</tr>\n",
       "<tr>\n",
       "    <td>No. Iterations:</td>        <td>8.0000</td>              <td></td>             <td></td>   \n",
       "</tr>\n",
       "</table>\n",
       "<table class=\"simpletable\">\n",
       "<tr>\n",
       "         <td></td>         <th>Coef.</th>  <th>Std.Err.</th>     <th>z</th>     <th>P>|z|</th> <th>[0.025</th>  <th>0.975]</th> \n",
       "</tr>\n",
       "<tr>\n",
       "  <th>intercept</th>      <td>5.8100</td>   <td>0.1898</td>   <td>30.6071</td> <td>0.0000</td> <td>5.4380</td>  <td>6.1821</td> \n",
       "</tr>\n",
       "<tr>\n",
       "  <th>t_cap</th>          <td>0.0031</td>   <td>0.0001</td>   <td>53.5322</td> <td>0.0000</td> <td>0.0030</td>  <td>0.0032</td> \n",
       "</tr>\n",
       "<tr>\n",
       "  <th>t_hub_height</th>   <td>-0.4877</td>  <td>0.1325</td>   <td>-3.6815</td> <td>0.0002</td> <td>-0.7474</td> <td>-0.2281</td>\n",
       "</tr>\n",
       "<tr>\n",
       "  <th>t_rotor_d</th>      <td>-0.1590</td>  <td>0.0670</td>   <td>-2.3744</td> <td>0.0176</td> <td>-0.2903</td> <td>-0.0278</td>\n",
       "</tr>\n",
       "<tr>\n",
       "  <th>t_rsa</th>          <td>-0.0005</td>  <td>0.0000</td>  <td>-13.5238</td> <td>0.0000</td> <td>-0.0006</td> <td>-0.0005</td>\n",
       "</tr>\n",
       "<tr>\n",
       "  <th>t_total_height</th> <td>0.3378</td>   <td>0.1324</td>   <td>2.5510</td>  <td>0.0107</td> <td>0.0783</td>  <td>0.5974</td> \n",
       "</tr>\n",
       "<tr>\n",
       "  <th>t_conf_atr</th>     <td>-0.2476</td>  <td>0.0585</td>   <td>-4.2287</td> <td>0.0000</td> <td>-0.3623</td> <td>-0.1328</td>\n",
       "</tr>\n",
       "</table>"
      ],
      "text/plain": [
       "<class 'statsmodels.iolib.summary2.Summary'>\n",
       "\"\"\"\n",
       "                        Results: Logit\n",
       "===============================================================\n",
       "Model:                Logit            Pseudo R-squared: inf   \n",
       "Dependent Variable:   CA               AIC:              inf   \n",
       "Date:                 2020-09-28 14:04 BIC:              inf   \n",
       "No. Observations:     58012            Log-Likelihood:   -inf  \n",
       "Df Model:             6                LL-Null:          0.0000\n",
       "Df Residuals:         58005            LLR p-value:      1.0000\n",
       "Converged:            1.0000           Scale:            1.0000\n",
       "No. Iterations:       8.0000                                   \n",
       "---------------------------------------------------------------\n",
       "                Coef.  Std.Err.    z     P>|z|   [0.025  0.975]\n",
       "---------------------------------------------------------------\n",
       "intercept       5.8100   0.1898  30.6071 0.0000  5.4380  6.1821\n",
       "t_cap           0.0031   0.0001  53.5322 0.0000  0.0030  0.0032\n",
       "t_hub_height   -0.4877   0.1325  -3.6815 0.0002 -0.7474 -0.2281\n",
       "t_rotor_d      -0.1590   0.0670  -2.3744 0.0176 -0.2903 -0.0278\n",
       "t_rsa          -0.0005   0.0000 -13.5238 0.0000 -0.0006 -0.0005\n",
       "t_total_height  0.3378   0.1324   2.5510 0.0107  0.0783  0.5974\n",
       "t_conf_atr     -0.2476   0.0585  -4.2287 0.0000 -0.3623 -0.1328\n",
       "===============================================================\n",
       "\n",
       "\"\"\""
      ]
     },
     "execution_count": 337,
     "metadata": {},
     "output_type": "execute_result"
    }
   ],
   "source": [
    "df['intercept'] = 1\n",
    "log_mod = sm.Logit(df['CA'], df[['intercept','t_cap', 't_hub_height','t_rotor_d', 't_rsa', 't_total_height', 't_conf_atr' ]])\n",
    "results = log_mod.fit()\n",
    "results.summary2()"
   ]
  },
  {
   "cell_type": "code",
   "execution_count": 335,
   "metadata": {},
   "outputs": [
    {
     "data": {
      "text/plain": [
       "intercept         44.207940\n",
       "t_hub_height       1.024839\n",
       "t_rotor_d          1.171752\n",
       "t_rsa              0.999581\n",
       "t_total_height     0.851175\n",
       "t_conf_atr         0.873282\n",
       "dtype: float64"
      ]
     },
     "execution_count": 335,
     "metadata": {},
     "output_type": "execute_result"
    }
   ],
   "source": [
    "np.exp(results.params)"
   ]
  },
  {
   "cell_type": "code",
   "execution_count": 336,
   "metadata": {},
   "outputs": [
    {
     "data": {
      "text/plain": [
       "intercept         0.022620\n",
       "t_hub_height      0.975763\n",
       "t_rotor_d         0.853423\n",
       "t_rsa             1.000420\n",
       "t_total_height    1.174846\n",
       "t_conf_atr        1.145106\n",
       "dtype: float64"
      ]
     },
     "execution_count": 336,
     "metadata": {},
     "output_type": "execute_result"
    }
   ],
   "source": [
    "1/_"
   ]
  },
  {
   "cell_type": "code",
   "execution_count": null,
   "metadata": {},
   "outputs": [],
   "source": []
  }
 ],
 "metadata": {
  "kernelspec": {
   "display_name": "Python 3",
   "language": "python",
   "name": "python3"
  },
  "language_info": {
   "codemirror_mode": {
    "name": "ipython",
    "version": 3
   },
   "file_extension": ".py",
   "mimetype": "text/x-python",
   "name": "python",
   "nbconvert_exporter": "python",
   "pygments_lexer": "ipython3",
   "version": "3.8.3"
  }
 },
 "nbformat": 4,
 "nbformat_minor": 4
}
